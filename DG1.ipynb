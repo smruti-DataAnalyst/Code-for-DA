{
 "cells": [
  {
   "cell_type": "code",
   "execution_count": 3,
   "id": "5f52f04f-c5b0-44a0-bae6-903a9e93266d",
   "metadata": {},
   "outputs": [
    {
     "name": "stdout",
     "output_type": "stream",
     "text": [
      "Hello Project Director Priyadarshan\n"
     ]
    }
   ],
   "source": [
    "print(\"Hello Project Director Priyadarshan\")"
   ]
  },
  {
   "cell_type": "code",
   "execution_count": 4,
   "id": "9608112c-7f3e-4257-9d5d-b97ae6c8e313",
   "metadata": {},
   "outputs": [],
   "source": [
    "##To run the code =  cntrl+enter\n",
    "##To run the code and go to a new line= alt+enter"
   ]
  },
  {
   "cell_type": "code",
   "execution_count": 7,
   "id": "47cb5722-7734-468e-abfb-d2ee7bb1de3c",
   "metadata": {},
   "outputs": [
    {
     "name": "stdout",
     "output_type": "stream",
     "text": [
      "<class 'str'>\n"
     ]
    }
   ],
   "source": [
    "###Data type\n",
    "\n",
    "##String\n",
    "Name= 'Sahahrukh khan'\n",
    "print(type(Name))\n",
    "\n"
   ]
  },
  {
   "cell_type": "code",
   "execution_count": 11,
   "id": "5caa3d1d-da74-4d16-bbd1-c4fb85594710",
   "metadata": {},
   "outputs": [
    {
     "name": "stdout",
     "output_type": "stream",
     "text": [
      "<class 'float'>\n"
     ]
    }
   ],
   "source": [
    "##Float\n",
    "Height=5.10\n",
    "print(type(Height))"
   ]
  },
  {
   "cell_type": "code",
   "execution_count": 12,
   "id": "fd84d0b9-7771-4676-b5df-01c81c89c5cd",
   "metadata": {},
   "outputs": [],
   "source": [
    "##Assignments to check data type of His networth ??\n",
    "##Substract B from A"
   ]
  },
  {
   "cell_type": "code",
   "execution_count": 17,
   "id": "6538aeea-dbc2-4a30-99f2-8a477e6e529e",
   "metadata": {},
   "outputs": [
    {
     "name": "stdout",
     "output_type": "stream",
     "text": [
      "1100\n",
      "Addition of a and b is : 1100\n"
     ]
    }
   ],
   "source": [
    "##Arithmatic \n",
    "###Addition(+), Substraction(-), Multiplication(*),Division(/) ,Remainder(%),power(**) \n",
    "\n",
    "A=1000\n",
    "B=100\n",
    "C=A+B\n",
    "print(C)\n",
    "print(\"Addition of a and b is :\",C)\n"
   ]
  },
  {
   "cell_type": "code",
   "execution_count": 19,
   "id": "9f56cfee-97be-44ef-8c65-a855da4ccbc0",
   "metadata": {},
   "outputs": [
    {
     "name": "stdout",
     "output_type": "stream",
     "text": [
      "1\n"
     ]
    }
   ],
   "source": [
    "##Remainder\n",
    "A=5\n",
    "B=2\n",
    "Remainder=A%B\n",
    "print(Remainder)"
   ]
  },
  {
   "cell_type": "code",
   "execution_count": 21,
   "id": "cb1902aa-ec22-449c-bb18-aedec23adade",
   "metadata": {},
   "outputs": [
    {
     "name": "stdout",
     "output_type": "stream",
     "text": [
      "2.5\n",
      "2\n"
     ]
    }
   ],
   "source": [
    "##Divison\n",
    "A=10\n",
    "B=4\n",
    "Div=A/B\n",
    "Abs_Div=A//B\n",
    "\n",
    "print(Div)\n",
    "print(Abs_Div)"
   ]
  },
  {
   "cell_type": "code",
   "execution_count": 27,
   "id": "d9c71550-6873-4c0b-b8e8-7b7f42a6c62d",
   "metadata": {},
   "outputs": [
    {
     "name": "stdout",
     "output_type": "stream",
     "text": [
      "64\n",
      "A power B, kuch v likh sakta hun is: 64\n"
     ]
    }
   ],
   "source": [
    "##Power\n",
    "A=4\n",
    "B=3\n",
    "\n",
    "power=A**B\n",
    "print(power)\n",
    "print(\"A power B is:\",power)"
   ]
  },
  {
   "cell_type": "code",
   "execution_count": 31,
   "id": "c7c1e1ec-1282-4a93-9ae3-ebe261a5ab76",
   "metadata": {},
   "outputs": [
    {
     "name": "stdout",
     "output_type": "stream",
     "text": [
      "Gurpreet Singh\n"
     ]
    }
   ],
   "source": [
    "A= 'Gurpreet'\n",
    "B='Singh'\n",
    "print(A+' '+B)"
   ]
  },
  {
   "cell_type": "code",
   "execution_count": 33,
   "id": "c627fdd1-7d2a-4e04-8d3c-3b5b2f0a4f3f",
   "metadata": {},
   "outputs": [
    {
     "name": "stdout",
     "output_type": "stream",
     "text": [
      "<class 'int'>\n",
      "<class 'float'>\n",
      "1010.5\n"
     ]
    }
   ],
   "source": [
    "A=1000\n",
    "B=10.5\n",
    "print(type(A))\n",
    "print(type(B))\n",
    "print(A+B)"
   ]
  },
  {
   "cell_type": "code",
   "execution_count": 35,
   "id": "a43785c9-a667-46fa-bd04-eb6bbf1eeed7",
   "metadata": {},
   "outputs": [
    {
     "name": "stdout",
     "output_type": "stream",
     "text": [
      "<class 'float'>\n"
     ]
    }
   ],
   "source": [
    "A=1000\n",
    "B=10.5\n",
    "A=float(A)\n",
    "print(type(A))"
   ]
  },
  {
   "cell_type": "code",
   "execution_count": null,
   "id": "0334673b-9fa0-4686-a40c-f3d48eb00cbd",
   "metadata": {},
   "outputs": [],
   "source": []
  },
  {
   "cell_type": "code",
   "execution_count": null,
   "id": "5da58535-70e3-43bb-bfde-7781458a6cf1",
   "metadata": {},
   "outputs": [],
   "source": []
  },
  {
   "cell_type": "code",
   "execution_count": null,
   "id": "98fd0f33-b48e-44fe-90b1-7b6cac681004",
   "metadata": {},
   "outputs": [],
   "source": []
  },
  {
   "cell_type": "code",
   "execution_count": null,
   "id": "2a4a55b6-d762-4e69-92e3-857710f72d81",
   "metadata": {},
   "outputs": [],
   "source": []
  },
  {
   "cell_type": "code",
   "execution_count": null,
   "id": "0b139453-65de-4b3c-9dc3-c49742e27924",
   "metadata": {},
   "outputs": [],
   "source": []
  },
  {
   "cell_type": "code",
   "execution_count": null,
   "id": "f10e4afb-d8be-4d74-ac7b-a371ad8f6aec",
   "metadata": {},
   "outputs": [],
   "source": []
  },
  {
   "cell_type": "code",
   "execution_count": null,
   "id": "4bfe6b7a-7b92-422e-93f0-7751cf6784df",
   "metadata": {},
   "outputs": [],
   "source": []
  },
  {
   "cell_type": "code",
   "execution_count": null,
   "id": "f1873d35-1355-42fe-80b2-3f5a98570cb8",
   "metadata": {},
   "outputs": [],
   "source": []
  },
  {
   "cell_type": "code",
   "execution_count": null,
   "id": "99ec66a9-6db9-4450-917f-7f9dbdd8db54",
   "metadata": {},
   "outputs": [],
   "source": []
  }
 ],
 "metadata": {
  "kernelspec": {
   "display_name": "Python 3 (ipykernel)",
   "language": "python",
   "name": "python3"
  },
  "language_info": {
   "codemirror_mode": {
    "name": "ipython",
    "version": 3
   },
   "file_extension": ".py",
   "mimetype": "text/x-python",
   "name": "python",
   "nbconvert_exporter": "python",
   "pygments_lexer": "ipython3",
   "version": "3.11.7"
  }
 },
 "nbformat": 4,
 "nbformat_minor": 5
}
